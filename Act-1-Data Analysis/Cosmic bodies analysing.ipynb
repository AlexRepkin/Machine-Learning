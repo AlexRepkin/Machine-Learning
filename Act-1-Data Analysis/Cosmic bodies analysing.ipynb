{
  "cells": [
    {
      "cell_type": "markdown",
      "metadata": {
        "id": "0WHrp4L2DlLO"
      },
      "source": [
        "# Лабораторная работа №1\n",
        "# Выполнена студентом группы ИВТ-б-о-22-1: Репкин Александр\n",
        "## Исследование набора данных - Небесные Тела."
      ]
    },
    {
      "cell_type": "markdown",
      "metadata": {
        "id": "OuqYdfR6DlLR"
      },
      "source": [
        "### Подключение библиотеки NumPy и загрузка данных"
      ]
    },
    {
      "cell_type": "code",
      "source": [
        "!wget https://raw.githubusercontent.com/AlexRepkin/Machine-Learning/main/Act-1-Data%20Analysis/Cosmic%20bodies.data\n",
        "# Загрузка данных из своего репозитория GitHub."
      ],
      "metadata": {
        "colab": {
          "base_uri": "https://localhost:8080/"
        },
        "id": "tvYswangDm8g",
        "outputId": "eef99d70-eef1-4e66-cfd2-0b393b9123ca"
      },
      "execution_count": null,
      "outputs": [
        {
          "output_type": "stream",
          "name": "stdout",
          "text": [
            "--2024-02-21 08:04:26--  https://raw.githubusercontent.com/AlexRepkin/Machine-Learning/main/Act-1-Data%20Analysis/Cosmic%20bodies.data\n",
            "Resolving raw.githubusercontent.com (raw.githubusercontent.com)... 185.199.108.133, 185.199.109.133, 185.199.110.133, ...\n",
            "Connecting to raw.githubusercontent.com (raw.githubusercontent.com)|185.199.108.133|:443... connected.\n",
            "HTTP request sent, awaiting response... 200 OK\n",
            "Length: 3379 (3.3K) [text/plain]\n",
            "Saving to: ‘Cosmic bodies.data’\n",
            "\n",
            "\rCosmic bodies.data    0%[                    ]       0  --.-KB/s               \rCosmic bodies.data  100%[===================>]   3.30K  --.-KB/s    in 0s      \n",
            "\n",
            "2024-02-21 08:04:26 (27.9 MB/s) - ‘Cosmic bodies.data’ saved [3379/3379]\n",
            "\n"
          ]
        }
      ]
    },
    {
      "cell_type": "code",
      "execution_count": 11,
      "metadata": {
        "ExecuteTime": {
          "end_time": "2022-08-22T15:50:49.355964Z",
          "start_time": "2022-08-22T15:50:46.108877Z"
        },
        "colab": {
          "base_uri": "https://localhost:8080/",
          "height": 0
        },
        "id": "Y-GOOMZhDlLR",
        "outputId": "7dd399fc-cce9-4b80-c154-b68c55af03a5"
      },
      "outputs": [
        {
          "output_type": "stream",
          "name": "stdout",
          "text": [
            "[[ 2.43970e+03 -1.00000e+02  0.00000e+00  3.30000e+02          nan]\n",
            " [ 6.05180e+03  1.50000e+01  2.00000e+00  4.86800e+03          nan]\n",
            " [ 6.37100e+03  1.50000e+01  1.00000e+00  5.97360e+03          nan]\n",
            " [ 3.38950e+03 -6.30000e+01  2.00000e+00  6.41710e+02          nan]\n",
            " [ 6.99110e+04 -1.45000e+02  8.20000e+01  1.89819e+03          nan]\n",
            " [ 5.79600e+02  4.62000e+02  0.00000e+00  7.30000e-02          nan]\n",
            " [ 7.14920e+04 -1.45000e+02  7.90000e+01  5.68340e+02          nan]\n",
            " [ 6.02680e+04 -2.18000e+02  6.20000e+01  8.68130e+01          nan]\n",
            " [ 2.55590e+04  5.20000e+01  2.70000e+01  1.02413e+02          nan]\n",
            " [ 5.43640e+04 -2.14000e+02  1.40000e+01  5.68340e+02          nan]\n",
            " [ 2.37000e+03 -5.30000e+01  0.00000e+00  3.30000e-01          nan]\n",
            " [ 4.86140e+03  1.67000e+02  0.00000e+00  6.42000e-01          nan]\n",
            " [ 2.50000e+01  1.00000e+02  0.00000e+00  2.00000e-06          nan]\n",
            " [ 1.27560e+04  1.50000e+01  1.00000e+00  5.97200e+24          nan]\n",
            " [ 4.95280e+04 -2.24000e+02  2.70000e+01  4.86700e+24          nan]\n",
            " [ 1.42984e+05 -2.34000e+02  7.90000e+01  5.97200e+24          nan]\n",
            " [ 1.20536e+05 -2.45000e+02  6.20000e+01  5.97200e+24          nan]\n",
            " [ 5.11180e+04 -2.11000e+02  2.70000e+01  5.97200e+24          nan]\n",
            " [ 4.95280e+04 -2.13000e+02  1.40000e+01  5.97200e+24          nan]\n",
            " [ 4.92440e+04 -2.34000e+02  6.20000e+01  5.97200e+24          nan]\n",
            " [ 5.24140e+04 -2.21000e+02  2.70000e+01  5.97200e+24          nan]\n",
            " [ 6.02680e+04 -2.45000e+02  2.70000e+01  5.97200e+24          nan]\n",
            " [ 6.96340e+05 -2.43000e+02  8.20000e+01  5.97200e+24          nan]\n",
            " [ 7.14920e+05 -2.30000e+02  7.90000e+01  5.97200e+24          nan]\n",
            " [ 4.95280e+05 -2.15000e+02  6.20000e+01  5.97200e+24          nan]\n",
            " [ 5.41080e+04 -2.15000e+02  2.70000e+01  5.97200e+24          nan]\n",
            " [ 6.02680e+04 -2.36000e+02  1.40000e+01  5.97200e+24          nan]\n",
            " [ 4.95280e+05 -2.22000e+02  8.20000e+01  5.97200e+24          nan]\n",
            " [ 7.14920e+05 -2.30000e+02  7.90000e+01  5.97200e+24          nan]\n",
            " [ 5.41080e+04 -2.15000e+02  6.20000e+01  5.97200e+24          nan]\n",
            " [ 6.04320e+04 -2.15000e+02  2.70000e+01  5.97200e+24          nan]\n",
            " [ 6.02680e+04 -2.36000e+02  1.40000e+01  5.97200e+24          nan]\n",
            " [ 2.54820e+04 -2.56000e+02  2.70000e+01  5.97200e+24          nan]\n",
            " [ 6.59232e+05 -2.78000e+02  8.20000e+01  5.97200e+24          nan]\n",
            " [ 7.14920e+05 -2.81000e+02  7.90000e+01  5.97200e+24          nan]\n",
            " [ 5.89520e+04 -2.92000e+02  6.20000e+01  5.97200e+24          nan]\n",
            " [ 4.95280e+05 -2.76000e+02  2.70000e+01  5.97200e+24          nan]\n",
            " [ 6.02680e+04 -2.98000e+02  1.40000e+01  5.97200e+24          nan]\n",
            " [ 6.94100e+03 -2.20000e+02  0.00000e+00  1.07000e-01          nan]\n",
            " [ 1.02000e+04 -2.01000e+02  0.00000e+00  8.15000e-01          nan]\n",
            " [ 6.95700e+05  5.77800e+03  8.00000e+00  1.98900e+30          nan]\n",
            " [ 6.96340e+05  5.50500e+03  9.00000e+00  1.98900e+30          nan]\n",
            " [ 7.14920e+05  5.77800e+03  7.00000e+00  1.98900e+30          nan]\n",
            " [ 6.94100e+03  5.77800e+03  0.00000e+00  2.00000e+30          nan]\n",
            " [ 1.02000e+04  5.77800e+03  0.00000e+00  2.00000e+30          nan]\n",
            " [ 1.27560e+04  5.77800e+03  0.00000e+00  2.00000e+30          nan]\n",
            " [ 4.95280e+04  5.77800e+03  7.00000e+00  1.98900e+30          nan]\n",
            " [ 5.41080e+04  5.77800e+03  8.00000e+00  1.98900e+30          nan]\n",
            " [ 6.02680e+04  5.77800e+03  9.00000e+00  1.98900e+30          nan]\n",
            " [ 6.96340e+05  5.77800e+03  7.00000e+00  1.98900e+30          nan]\n",
            " [ 7.14920e+05  5.77800e+03  8.00000e+00  1.98900e+30          nan]\n",
            " [ 6.94100e+03  5.77800e+03  0.00000e+00  1.98900e+30          nan]\n",
            " [ 1.02000e+04  5.77800e+03  0.00000e+00  1.98900e+30          nan]\n",
            " [ 1.27560e+04  5.77800e+03  0.00000e+00  1.98900e+30          nan]\n",
            " [ 4.95280e+04  5.77800e+03  7.00000e+00  1.98900e+30          nan]\n",
            " [ 5.41080e+04  5.77800e+03  8.00000e+00  1.98900e+30          nan]\n",
            " [ 6.02680e+04  5.77800e+03  9.00000e+00  1.98900e+30          nan]\n",
            " [ 6.96340e+05  5.77800e+03  7.00000e+00  1.98900e+30          nan]\n",
            " [ 7.14920e+05  5.77800e+03  8.00000e+00  1.98900e+30          nan]\n",
            " [ 6.94100e+03  5.77800e+03  0.00000e+00  1.98900e+30          nan]\n",
            " [ 1.02000e+04  5.77800e+03  0.00000e+00  1.98900e+30          nan]\n",
            " [ 1.27560e+04  5.77800e+03  0.00000e+00  1.98900e+30          nan]\n",
            " [ 4.95280e+04  5.77800e+03  7.00000e+00  1.98900e+30          nan]\n",
            " [ 5.41080e+04  5.77800e+03  8.00000e+00  1.98900e+30          nan]\n",
            " [ 6.02680e+04  5.77800e+03  9.00000e+00  1.98900e+30          nan]\n",
            " [ 6.96340e+05  5.77800e+03  7.00000e+00  1.98900e+30          nan]\n",
            " [ 7.14920e+05  5.77800e+03  8.00000e+00  1.98900e+30          nan]\n",
            " [ 6.94100e+03  5.77800e+03  0.00000e+00  1.98900e+30          nan]\n",
            " [ 1.02000e+04  5.77800e+03  0.00000e+00  1.98900e+30          nan]\n",
            " [ 1.27560e+04  5.77800e+03  0.00000e+00  1.98900e+30          nan]\n",
            " [ 4.95280e+04  5.77800e+03  7.00000e+00  1.98900e+30          nan]\n",
            " [ 5.41080e+04  5.77800e+03  8.00000e+00  1.98900e+30          nan]\n",
            " [ 6.02680e+04  5.77800e+03  9.00000e+00  1.98900e+30          nan]\n",
            " [ 6.96340e+05  5.77800e+03  7.00000e+00  1.98900e+30          nan]\n",
            " [ 7.14920e+05  5.77800e+03  8.00000e+00  1.98900e+30          nan]\n",
            " [ 6.94100e+03  5.77800e+03  0.00000e+00  1.98900e+30          nan]\n",
            " [ 1.02000e+04  5.77800e+03  0.00000e+00  1.98900e+30          nan]\n",
            " [ 1.27560e+04  5.77800e+03  0.00000e+00  1.98900e+30          nan]\n",
            " [ 4.95280e+04  5.77800e+03  7.00000e+00  1.98900e+30          nan]\n",
            " [ 5.41080e+04  5.77800e+03  8.00000e+00  1.98900e+30          nan]\n",
            " [ 5.00000e+00  5.00000e+02  0.00000e+00  1.00000e+09          nan]\n",
            " [ 4.50000e+00  6.00000e+02  0.00000e+00  5.00000e+08          nan]\n",
            " [ 3.00000e+00  7.00000e+02  0.00000e+00  3.00000e+08          nan]\n",
            " [ 2.20000e+00  8.00000e+02  0.00000e+00  2.00000e+08          nan]\n",
            " [ 6.70000e+00  4.00000e+02  0.00000e+00  1.50000e+09          nan]\n",
            " [ 4.00000e+00  5.50000e+02  0.00000e+00  4.00000e+08          nan]\n",
            " [ 3.50000e+00  6.50000e+02  0.00000e+00  2.50000e+08          nan]\n",
            " [ 2.80000e+00  7.50000e+02  0.00000e+00  2.20000e+08          nan]\n",
            " [ 6.50000e+00  4.20000e+02  0.00000e+00  1.70000e+09          nan]\n",
            " [ 5.20000e+00  4.80000e+02  0.00000e+00  6.00000e+08          nan]\n",
            " [ 4.80000e+00  5.80000e+02  0.00000e+00  4.50000e+08          nan]\n",
            " [ 3.90000e+00  6.80000e+02  0.00000e+00  3.50000e+08          nan]\n",
            " [ 2.90000e+00  7.80000e+02  0.00000e+00  2.30000e+08          nan]\n",
            " [ 7.20000e+00  4.30000e+02  0.00000e+00  1.80000e+09          nan]\n",
            " [ 6.00000e+00  5.20000e+02  0.00000e+00  7.00000e+08          nan]\n",
            " [ 5.50000e+00  6.00000e+02  0.00000e+00  5.50000e+08          nan]\n",
            " [ 4.60000e+00  6.70000e+02  0.00000e+00  3.60000e+08          nan]\n",
            " [ 3.80000e+00  7.20000e+02  0.00000e+00  2.80000e+08          nan]\n",
            " [ 2.50000e+00  7.90000e+02  0.00000e+00  2.50000e+08          nan]\n",
            " [ 7.80000e+00  4.40000e+02  0.00000e+00  1.90000e+09          nan]\n",
            " [ 6.30000e+00  5.10000e+02  0.00000e+00  8.00000e+08          nan]\n",
            " [ 5.80000e+00  5.90000e+02  0.00000e+00  5.70000e+08          nan]\n",
            " [ 4.90000e+00  6.60000e+02  0.00000e+00  4.70000e+08          nan]\n",
            " [ 4.20000e+00  7.30000e+02  0.00000e+00  3.20000e+08          nan]\n",
            " [ 3.30000e+00  7.70000e+02  0.00000e+00  2.40000e+08          nan]\n",
            " [ 8.50000e+00  4.50000e+02  0.00000e+00  2.00000e+09          nan]\n",
            " [ 7.00000e+00  5.40000e+02  0.00000e+00  8.50000e+08          nan]\n",
            " [ 6.40000e+00  6.10000e+02  0.00000e+00  6.00000e+08          nan]\n",
            " [ 5.60000e+00  6.80000e+02  0.00000e+00  5.80000e+08          nan]\n",
            " [ 4.70000e+00  7.40000e+02  0.00000e+00  3.80000e+08          nan]\n",
            " [ 3.70000e+00  7.80000e+02  0.00000e+00  2.90000e+08          nan]\n",
            " [ 8.90000e+00  4.60000e+02  0.00000e+00  2.10000e+09          nan]\n",
            " [ 7.40000e+00  5.30000e+02  0.00000e+00  8.70000e+08          nan]\n",
            " [ 6.60000e+00  6.20000e+02  0.00000e+00  6.20000e+08          nan]\n",
            " [ 5.90000e+00  6.90000e+02  0.00000e+00  5.90000e+08          nan]\n",
            " [ 4.50000e+00  7.50000e+02  0.00000e+00  3.90000e+08          nan]\n",
            " [ 3.60000e+00  7.90000e+02  0.00000e+00  3.00000e+08          nan]\n",
            " [ 9.50000e+00  4.70000e+02  0.00000e+00  2.20000e+09          nan]\n",
            " [ 7.80000e+00  5.40000e+02  0.00000e+00  8.80000e+08          nan]\n",
            " [ 6.80000e+00  6.30000e+02  0.00000e+00  6.30000e+08          nan]]\n"
          ]
        }
      ],
      "source": [
        "import numpy as np\n",
        "data_path = \"Cosmic bodies.data\"\n",
        "data = np.genfromtxt(data_path, delimiter=\",\")\n",
        "print(data)"
      ]
    },
    {
      "cell_type": "markdown",
      "metadata": {
        "id": "BRkRKa7vDlLT"
      },
      "source": [
        "### Тип переменной и форма (shape)"
      ]
    },
    {
      "cell_type": "code",
      "execution_count": 12,
      "metadata": {
        "ExecuteTime": {
          "end_time": "2022-08-22T15:50:53.470268Z",
          "start_time": "2022-08-22T15:50:53.466267Z"
        },
        "colab": {
          "base_uri": "https://localhost:8080/",
          "height": 0
        },
        "id": "n1sUPh2yDlLT",
        "outputId": "07b58b04-f47d-4e02-8a7e-2a5dea3d9c2b"
      },
      "outputs": [
        {
          "output_type": "stream",
          "name": "stdout",
          "text": [
            "Data type :  <class 'numpy.ndarray'>\n",
            "Data shape :  (120, 5)\n",
            "[[3.6e+00 7.9e+02 0.0e+00 3.0e+08     nan]\n",
            " [9.5e+00 4.7e+02 0.0e+00 2.2e+09     nan]\n",
            " [7.8e+00 5.4e+02 0.0e+00 8.8e+08     nan]\n",
            " [6.8e+00 6.3e+02 0.0e+00 6.3e+08     nan]]\n"
          ]
        }
      ],
      "source": [
        "print ( \"Data type : \", type(data) )\n",
        "print ( \"Data shape : \", data.shape )\n",
        "print ( data[-4:] )"
      ]
    },
    {
      "cell_type": "markdown",
      "metadata": {
        "id": "WnQZ1-tlDlLT"
      },
      "source": [
        "### Получение типа набора данных, строки, элемента"
      ]
    },
    {
      "cell_type": "code",
      "execution_count": 13,
      "metadata": {
        "ExecuteTime": {
          "end_time": "2022-08-22T15:50:56.469203Z",
          "start_time": "2022-08-22T15:50:56.442184Z"
        },
        "colab": {
          "base_uri": "https://localhost:8080/",
          "height": 0
        },
        "id": "diZMLAwIDlLT",
        "outputId": "10d53228-9fb0-489e-8208-7fd8ffe5a480"
      },
      "outputs": [
        {
          "output_type": "stream",
          "name": "stdout",
          "text": [
            "Shape of the dataset: (120,)\n",
            "Dataset type: <class 'numpy.ndarray'>\n",
            "A single row of the dataset is type of: <class 'numpy.void'>\n",
            "Types of elements: <class 'numpy.int64'> <class 'numpy.bytes_'>\n",
            "Dataset:\n",
            "[(2.43970e+03, -100,  0, 3.30000e+02, b'Planet')\n",
            " (6.05180e+03,   15,  2, 4.86800e+03, b'Planet')\n",
            " (6.37100e+03,   15,  1, 5.97360e+03, b'Planet')\n",
            " (3.38950e+03,  -63,  2, 6.41710e+02, b'Planet')\n",
            " (6.99110e+04, -145, 82, 1.89819e+03, b'Planet')\n",
            " (5.79600e+02,  462,  0, 7.30000e-02, b'Planet')\n",
            " (7.14920e+04, -145, 79, 5.68340e+02, b'Planet')\n",
            " (6.02680e+04, -218, 62, 8.68130e+01, b'Planet')\n",
            " (2.55590e+04,   52, 27, 1.02413e+02, b'Planet')\n",
            " (5.43640e+04, -214, 14, 5.68340e+02, b'Planet')\n",
            " (2.37000e+03,  -53,  0, 3.30000e-01, b'Planet')\n",
            " (4.86140e+03,  167,  0, 6.42000e-01, b'Planet')\n",
            " (2.50000e+01,  100,  0, 2.00000e-06, b'Planet')\n",
            " (1.27560e+04,   15,  1, 5.97200e+24, b'Planet')\n",
            " (4.95280e+04, -224, 27, 4.86700e+24, b'Planet')\n",
            " (1.42984e+05, -234, 79, 5.97200e+24, b'Planet')\n",
            " (1.20536e+05, -245, 62, 5.97200e+24, b'Planet')\n",
            " (5.11180e+04, -211, 27, 5.97200e+24, b'Planet')\n",
            " (4.95280e+04, -213, 14, 5.97200e+24, b'Planet')\n",
            " (4.92440e+04, -234, 62, 5.97200e+24, b'Planet')\n",
            " (5.24140e+04, -221, 27, 5.97200e+24, b'Planet')\n",
            " (6.02680e+04, -245, 27, 5.97200e+24, b'Planet')\n",
            " (6.96340e+05, -243, 82, 5.97200e+24, b'Planet')\n",
            " (7.14920e+05, -230, 79, 5.97200e+24, b'Planet')\n",
            " (4.95280e+05, -215, 62, 5.97200e+24, b'Planet')\n",
            " (5.41080e+04, -215, 27, 5.97200e+24, b'Planet')\n",
            " (6.02680e+04, -236, 14, 5.97200e+24, b'Planet')\n",
            " (4.95280e+05, -222, 82, 5.97200e+24, b'Planet')\n",
            " (7.14920e+05, -230, 79, 5.97200e+24, b'Planet')\n",
            " (5.41080e+04, -215, 62, 5.97200e+24, b'Planet')\n",
            " (6.04320e+04, -215, 27, 5.97200e+24, b'Planet')\n",
            " (6.02680e+04, -236, 14, 5.97200e+24, b'Planet')\n",
            " (2.54820e+04, -256, 27, 5.97200e+24, b'Planet')\n",
            " (6.59232e+05, -278, 82, 5.97200e+24, b'Planet')\n",
            " (7.14920e+05, -281, 79, 5.97200e+24, b'Planet')\n",
            " (5.89520e+04, -292, 62, 5.97200e+24, b'Planet')\n",
            " (4.95280e+05, -276, 27, 5.97200e+24, b'Planet')\n",
            " (6.02680e+04, -298, 14, 5.97200e+24, b'Planet')\n",
            " (6.94100e+03, -220,  0, 1.07000e-01, b'Planet')\n",
            " (1.02000e+04, -201,  0, 8.15000e-01, b'Planet')\n",
            " (6.95700e+05, 5778,  8, 1.98900e+30, b'Star')\n",
            " (6.96340e+05, 5505,  9, 1.98900e+30, b'Star')\n",
            " (7.14920e+05, 5778,  7, 1.98900e+30, b'Star')\n",
            " (6.94100e+03, 5778,  0, 2.00000e+30, b'Star')\n",
            " (1.02000e+04, 5778,  0, 2.00000e+30, b'Star')\n",
            " (1.27560e+04, 5778,  0, 2.00000e+30, b'Star')\n",
            " (4.95280e+04, 5778,  7, 1.98900e+30, b'Star')\n",
            " (5.41080e+04, 5778,  8, 1.98900e+30, b'Star')\n",
            " (6.02680e+04, 5778,  9, 1.98900e+30, b'Star')\n",
            " (6.96340e+05, 5778,  7, 1.98900e+30, b'Star')\n",
            " (7.14920e+05, 5778,  8, 1.98900e+30, b'Star')\n",
            " (6.94100e+03, 5778,  0, 1.98900e+30, b'Star')\n",
            " (1.02000e+04, 5778,  0, 1.98900e+30, b'Star')\n",
            " (1.27560e+04, 5778,  0, 1.98900e+30, b'Star')\n",
            " (4.95280e+04, 5778,  7, 1.98900e+30, b'Star')\n",
            " (5.41080e+04, 5778,  8, 1.98900e+30, b'Star')\n",
            " (6.02680e+04, 5778,  9, 1.98900e+30, b'Star')\n",
            " (6.96340e+05, 5778,  7, 1.98900e+30, b'Star')\n",
            " (7.14920e+05, 5778,  8, 1.98900e+30, b'Star')\n",
            " (6.94100e+03, 5778,  0, 1.98900e+30, b'Star')\n",
            " (1.02000e+04, 5778,  0, 1.98900e+30, b'Star')\n",
            " (1.27560e+04, 5778,  0, 1.98900e+30, b'Star')\n",
            " (4.95280e+04, 5778,  7, 1.98900e+30, b'Star')\n",
            " (5.41080e+04, 5778,  8, 1.98900e+30, b'Star')\n",
            " (6.02680e+04, 5778,  9, 1.98900e+30, b'Star')\n",
            " (6.96340e+05, 5778,  7, 1.98900e+30, b'Star')\n",
            " (7.14920e+05, 5778,  8, 1.98900e+30, b'Star')\n",
            " (6.94100e+03, 5778,  0, 1.98900e+30, b'Star')\n",
            " (1.02000e+04, 5778,  0, 1.98900e+30, b'Star')\n",
            " (1.27560e+04, 5778,  0, 1.98900e+30, b'Star')\n",
            " (4.95280e+04, 5778,  7, 1.98900e+30, b'Star')\n",
            " (5.41080e+04, 5778,  8, 1.98900e+30, b'Star')\n",
            " (6.02680e+04, 5778,  9, 1.98900e+30, b'Star')\n",
            " (6.96340e+05, 5778,  7, 1.98900e+30, b'Star')\n",
            " (7.14920e+05, 5778,  8, 1.98900e+30, b'Star')\n",
            " (6.94100e+03, 5778,  0, 1.98900e+30, b'Star')\n",
            " (1.02000e+04, 5778,  0, 1.98900e+30, b'Star')\n",
            " (1.27560e+04, 5778,  0, 1.98900e+30, b'Star')\n",
            " (4.95280e+04, 5778,  7, 1.98900e+30, b'Star')\n",
            " (5.41080e+04, 5778,  8, 1.98900e+30, b'Star')\n",
            " (5.00000e+00,  500,  0, 1.00000e+09, b'Meteor')\n",
            " (4.50000e+00,  600,  0, 5.00000e+08, b'Meteor')\n",
            " (3.00000e+00,  700,  0, 3.00000e+08, b'Meteor')\n",
            " (2.20000e+00,  800,  0, 2.00000e+08, b'Meteor')\n",
            " (6.70000e+00,  400,  0, 1.50000e+09, b'Meteor')\n",
            " (4.00000e+00,  550,  0, 4.00000e+08, b'Meteor')\n",
            " (3.50000e+00,  650,  0, 2.50000e+08, b'Meteor')\n",
            " (2.80000e+00,  750,  0, 2.20000e+08, b'Meteor')\n",
            " (6.50000e+00,  420,  0, 1.70000e+09, b'Meteor')\n",
            " (5.20000e+00,  480,  0, 6.00000e+08, b'Meteor')\n",
            " (4.80000e+00,  580,  0, 4.50000e+08, b'Meteor')\n",
            " (3.90000e+00,  680,  0, 3.50000e+08, b'Meteor')\n",
            " (2.90000e+00,  780,  0, 2.30000e+08, b'Meteor')\n",
            " (7.20000e+00,  430,  0, 1.80000e+09, b'Meteor')\n",
            " (6.00000e+00,  520,  0, 7.00000e+08, b'Meteor')\n",
            " (5.50000e+00,  600,  0, 5.50000e+08, b'Meteor')\n",
            " (4.60000e+00,  670,  0, 3.60000e+08, b'Meteor')\n",
            " (3.80000e+00,  720,  0, 2.80000e+08, b'Meteor')\n",
            " (2.50000e+00,  790,  0, 2.50000e+08, b'Meteor')\n",
            " (7.80000e+00,  440,  0, 1.90000e+09, b'Meteor')\n",
            " (6.30000e+00,  510,  0, 8.00000e+08, b'Meteor')\n",
            " (5.80000e+00,  590,  0, 5.70000e+08, b'Meteor')\n",
            " (4.90000e+00,  660,  0, 4.70000e+08, b'Meteor')\n",
            " (4.20000e+00,  730,  0, 3.20000e+08, b'Meteor')\n",
            " (3.30000e+00,  770,  0, 2.40000e+08, b'Meteor')\n",
            " (8.50000e+00,  450,  0, 2.00000e+09, b'Meteor')\n",
            " (7.00000e+00,  540,  0, 8.50000e+08, b'Meteor')\n",
            " (6.40000e+00,  610,  0, 6.00000e+08, b'Meteor')\n",
            " (5.60000e+00,  680,  0, 5.80000e+08, b'Meteor')\n",
            " (4.70000e+00,  740,  0, 3.80000e+08, b'Meteor')\n",
            " (3.70000e+00,  780,  0, 2.90000e+08, b'Meteor')\n",
            " (8.90000e+00,  460,  0, 2.10000e+09, b'Meteor')\n",
            " (7.40000e+00,  530,  0, 8.70000e+08, b'Meteor')\n",
            " (6.60000e+00,  620,  0, 6.20000e+08, b'Meteor')\n",
            " (5.90000e+00,  690,  0, 5.90000e+08, b'Meteor')\n",
            " (4.50000e+00,  750,  0, 3.90000e+08, b'Meteor')\n",
            " (3.60000e+00,  790,  0, 3.00000e+08, b'Meteor')\n",
            " (9.50000e+00,  470,  0, 2.20000e+09, b'Meteor')\n",
            " (7.80000e+00,  540,  0, 8.80000e+08, b'Meteor')\n",
            " (6.80000e+00,  630,  0, 6.30000e+08, b'Meteor')]\n"
          ]
        },
        {
          "output_type": "stream",
          "name": "stderr",
          "text": [
            "<ipython-input-13-be1180784c4e>:1: VisibleDeprecationWarning: Reading unicode strings without specifying the encoding argument is deprecated. Set the encoding, use None for the system default.\n",
            "  data1 = np.genfromtxt(data_path, delimiter=\",\", dtype=None)\n"
          ]
        }
      ],
      "source": [
        "data1 = np.genfromtxt(data_path, delimiter=\",\", dtype=None)\n",
        "print('Shape of the dataset:', data1.shape)\n",
        "print('Dataset type:', type(data1))\n",
        "print('A single row of the dataset is type of:', type(data1[0]))\n",
        "print('Types of elements:', type(data1[0][1]), type(data1[0][4]))\n",
        "print('Dataset:')\n",
        "print(data1)"
      ]
    },
    {
      "cell_type": "markdown",
      "metadata": {
        "id": "RIYW2mlDDlLU"
      },
      "source": [
        "### Указание типа столбцов при загрузке данных"
      ]
    },
    {
      "cell_type": "code",
      "execution_count": 14,
      "metadata": {
        "ExecuteTime": {
          "end_time": "2022-08-22T15:50:59.019675Z",
          "start_time": "2022-08-22T15:50:59.010669Z"
        },
        "colab": {
          "base_uri": "https://localhost:8080/",
          "height": 0
        },
        "id": "jo7IGpavDlLU",
        "outputId": "a5804f2d-9e30-4b8d-d6a3-0b84ddce5a4c"
      },
      "outputs": [
        {
          "output_type": "stream",
          "name": "stdout",
          "text": [
            "Shape of the dataset: (120,)\n",
            "Dataset type: <class 'numpy.ndarray'>\n",
            "A single row of the dataset is type of: <class 'numpy.void'>\n",
            "Types of elements: <class 'numpy.float64'> <class 'numpy.str_'>\n",
            "Dataset slice:\n",
            "[( 2439.7, -100.,  0., 3.30000e+02, 'Planet')\n",
            " ( 6051.8,   15.,  2., 4.86800e+03, 'Planet')\n",
            " ( 6371. ,   15.,  1., 5.97360e+03, 'Planet')\n",
            " ( 3389.5,  -63.,  2., 6.41710e+02, 'Planet')\n",
            " (69911. , -145., 82., 1.89819e+03, 'Planet')\n",
            " (  579.6,  462.,  0., 7.30000e-02, 'Planet')\n",
            " (71492. , -145., 79., 5.68340e+02, 'Planet')\n",
            " (60268. , -218., 62., 8.68130e+01, 'Planet')\n",
            " (25559. ,   52., 27., 1.02413e+02, 'Planet')\n",
            " (54364. , -214., 14., 5.68340e+02, 'Planet')]\n"
          ]
        }
      ],
      "source": [
        "dt = np.dtype(\"f8, f8, f8, f8, U30\")\n",
        "data2 = np.genfromtxt(data_path, delimiter=\",\", dtype=dt)\n",
        "print('Shape of the dataset:', data2.shape)\n",
        "print('Dataset type:', type(data2))\n",
        "print('A single row of the dataset is type of:', type(data2[0]))\n",
        "print('Types of elements:', type(data2[0][1]), type(data2[0][4]))\n",
        "print('Dataset slice:')\n",
        "print(data2[:10])"
      ]
    },
    {
      "cell_type": "markdown",
      "metadata": {
        "id": "_zYCLCz1DlLU"
      },
      "source": [
        "### Построение графиков с использованием Matplotlib"
      ]
    },
    {
      "cell_type": "code",
      "execution_count": 23,
      "metadata": {
        "ExecuteTime": {
          "end_time": "2022-08-22T15:51:05.402528Z",
          "start_time": "2022-08-22T15:51:01.482184Z"
        },
        "colab": {
          "base_uri": "https://localhost:8080/",
          "height": 1000
        },
        "id": "JY7JW0tBDlLV",
        "outputId": "b8d1c01b-3c87-421c-ba09-cd555c82eed2"
      },
      "outputs": [
        {
          "output_type": "display_data",
          "data": {
            "text/plain": [
              "<Figure size 640x480 with 1 Axes>"
            ],
            "image/png": "[encoded data removed]"
          },
          "metadata": {}
        },
        {
          "output_type": "display_data",
          "data": {
            "text/plain": [
              "<Figure size 640x480 with 1 Axes>"
            ],
            "image/png": "[encoded data removed]"
          },
          "metadata": {}
        },
        {
          "output_type": "display_data",
          "data": {
            "text/plain": [
              "<Figure size 640x480 with 1 Axes>"
            ],
            "image/png": "[encoded data removed]"
          },
          "metadata": {}
        }
      ],
      "source": [
        "import matplotlib as mpl\n",
        "import matplotlib.pyplot as plt\n",
        "%matplotlib inline\n",
        "\n",
        "# Данные из отдельных столбцов\n",
        "radius = [] # Радиус тела\n",
        "temperature = [] # Температура тела\n",
        "satellites = [] # КОличество спутников\n",
        "mass = [] # Масса тела\n",
        "\n",
        "# Заметка о маркерах!\n",
        "\n",
        "# Первы символ - цвет:\n",
        "# 'b' синий.\n",
        "# 'r' красный.\n",
        "# 'g' зелёный.\n",
        "# 'c' зеленовато-голубой.\n",
        "# 'm' лиловато-малиновый.\n",
        "# 'y' жёлтый.\n",
        "# 'k' чёрный.\n",
        "# 'w' белый.\n",
        "\n",
        "# Второй символ - тип отображения:\n",
        "# '-' сплошная линия.\n",
        "# '--' штриховая линия.\n",
        "# '-.' штрих-пунктирная линия.\n",
        "# ':' пунктирная линия.\n",
        "# '.' маркеры.\n",
        "# ',' пиксели.\n",
        "# 'o' круги.\n",
        "# 'v' треугольники, смотрящие вниз.\n",
        "# '^' треугольники, смотрящие вверх.\n",
        "# '<' треугольники, смотрящие влево.\n",
        "# '>' треугольники, смотрящие вправо.\n",
        "# 's' квадраты.\n",
        "# 'p' пятиугольники.\n",
        "# '+' плюс.\n",
        "# 'x' крест.\n",
        "# 'D' ромб.\n",
        "# 'd' тонкий ромб.\n",
        "# 'h' шестиугольник (1).\n",
        "# 'H' шестиугольник (2).\n",
        "# '8' восьмиугольник.\n",
        "\n",
        "# Выполняется обход всей коллекции data2\n",
        "for dot in data2:\n",
        "    radius.append(dot[0])\n",
        "    temperature.append(dot[1])\n",
        "    satellites.append(dot[2])\n",
        "    mass.append(dot[3])\n",
        "\n",
        "# Строим графики по проекциям данных\n",
        "# Учитывается, что каждые 40 типов тел идут последовательно\n",
        "plt.figure(1)\n",
        "planet, = plt.plot(radius[:40], temperature[:40], 'co', label='Планета')\n",
        "star, = plt.plot(radius[40:80], temperature[40:80], 'rp', label='Звезда')\n",
        "meteor, = plt.plot(radius[80:120], temperature[80:120], 'kx', label='Метеорит')\n",
        "plt.legend(bbox_to_anchor=(1.05, 1), loc=2, borderaxespad=0.)\n",
        "plt.xlabel('Радиус тела')\n",
        "plt.ylabel('Температура тела')\n",
        "\n",
        "plt.figure(2)\n",
        "planet, = plt.plot(radius[:40], satellites[:40], 'co', label='Планета')\n",
        "star, = plt.plot(radius[40:80], satellites[40:80], 'rp', label='Звезда')\n",
        "meteor, = plt.plot(radius[80:120], satellites[80:120], 'kx', label='Метеорит')\n",
        "plt.legend(bbox_to_anchor=(1.05, 1), loc=2, borderaxespad=0.)\n",
        "plt.xlabel('Радиус тела')\n",
        "plt.ylabel('Количество спутников')\n",
        "\n",
        "plt.figure(3)\n",
        "planet, = plt.plot(radius[:40], mass[:40], 'co', label='Планета')\n",
        "star, = plt.plot(radius[40:80], mass[40:80], 'rp', label='Звезда')\n",
        "meteor, = plt.plot(radius[80:120], mass[80:120], 'kx', label='Метеорит')\n",
        "plt.legend(bbox_to_anchor=(1.05, 1), loc=2, borderaxespad=0.)\n",
        "plt.xlabel('Радиус тела')\n",
        "plt.ylabel('Масса тела')\n",
        "\n",
        "plt.show()\n",
        "\n"
      ]
    },
    {
      "cell_type": "code",
      "source": [],
      "metadata": {
        "id": "wElg_74fDx4w"
      },
      "execution_count": null,
      "outputs": []
    }
  ],
  "metadata": {
    "kernelspec": {
      "display_name": "Python 3",
      "language": "python",
      "name": "python3"
    },
    "language_info": {
      "codemirror_mode": {
        "name": "ipython",
        "version": 3
      },
      "file_extension": ".py",
      "mimetype": "text/x-python",
      "name": "python",
      "nbconvert_exporter": "python",
      "pygments_lexer": "ipython3",
      "version": "3.6.6"
    },
    "toc": {
      "base_numbering": 1,
      "nav_menu": {},
      "number_sections": true,
      "sideBar": true,
      "skip_h1_title": false,
      "title_cell": "Table of Contents",
      "title_sidebar": "Contents",
      "toc_cell": false,
      "toc_position": {},
      "toc_section_display": true,
      "toc_window_display": false
    },
    "colab": {
      "provenance": []
    }
  },
  "nbformat": 4,
  "nbformat_minor": 0
}